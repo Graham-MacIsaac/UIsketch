{
 "cells": [
  {
   "cell_type": "markdown",
   "metadata": {},
   "source": [
    "The goal of this project is to create a model that can predict what type of common element of computer user interfaces an image is from a hand-written drawing (buttons, toggles, windows, etc.).\n",
    "\n",
    "We are using the UISketch dataset downloaded from Kaggle. it can be found at https://www.kaggle.com/datasets/vinothpandian/uisketch."
   ]
  },
  {
   "cell_type": "markdown",
   "metadata": {},
   "source": [
    "This notebook covers the first step of that process, the data wrangling and exploratory data analysis."
   ]
  },
  {
   "cell_type": "code",
   "execution_count": 1,
   "metadata": {
    "execution": {
     "iopub.execute_input": "2022-07-26T17:56:32.192641Z",
     "iopub.status.busy": "2022-07-26T17:56:32.192272Z",
     "iopub.status.idle": "2022-07-26T17:56:33.130764Z",
     "shell.execute_reply": "2022-07-26T17:56:33.129842Z",
     "shell.execute_reply.started": "2022-07-26T17:56:32.192611Z"
    }
   },
   "outputs": [],
   "source": [
    "# Import necessary packages\n",
    "import numpy as np\n",
    "import cv2\n",
    "import pandas as pd\n",
    "import glob\n",
    "import os\n",
    "import pyarrow as pa\n",
    "import pyarrow.parquet as pq"
   ]
  },
  {
   "cell_type": "markdown",
   "metadata": {},
   "source": [
    "First we create a list of all the category labels, which are also the filenames."
   ]
  },
  {
   "cell_type": "code",
   "execution_count": 2,
   "metadata": {
    "execution": {
     "iopub.execute_input": "2022-07-26T22:14:03.047624Z",
     "iopub.status.busy": "2022-07-26T22:14:03.047207Z",
     "iopub.status.idle": "2022-07-26T22:14:03.052675Z",
     "shell.execute_reply": "2022-07-26T22:14:03.051504Z",
     "shell.execute_reply.started": "2022-07-26T22:14:03.047587Z"
    }
   },
   "outputs": [],
   "source": [
    "labels = os.listdir('/Users/grahamsmith/Documents/SpringboardWork/UIsketch/UIsketch dataset')\n",
    "\n",
    "# remove the files that are not classes\n",
    "labels.remove('labels.csv')\n",
    "labels.remove('.DS_Store')"
   ]
  },
  {
   "cell_type": "markdown",
   "metadata": {},
   "source": [
    "Next we check the proportions of the classes to see if there is significant variance."
   ]
  },
  {
   "cell_type": "code",
   "execution_count": 3,
   "metadata": {
    "execution": {
     "iopub.execute_input": "2022-07-26T22:16:29.585855Z",
     "iopub.status.busy": "2022-07-26T22:16:29.585213Z",
     "iopub.status.idle": "2022-07-26T22:16:29.613860Z",
     "shell.execute_reply": "2022-07-26T22:16:29.612971Z",
     "shell.execute_reply.started": "2022-07-26T22:16:29.585804Z"
    }
   },
   "outputs": [
    {
     "name": "stdout",
     "output_type": "stream",
     "text": [
      "The smallest class size is  847 , and the largest class size is  1157 . The average class size is  948\n"
     ]
    }
   ],
   "source": [
    "label_length = []\n",
    "\n",
    "for x in labels:\n",
    "    label_length.append(len(os.listdir('/Users/grahamsmith/Documents/SpringboardWork/UIsketch/UIsketch dataset/' + x)))\n",
    "\n",
    "print('The smallest class size is ', min(label_length), ', and the largest class size is ', max(label_length),\n",
    "     '. The average class size is ', round(sum(label_length)/len(label_length)))"
   ]
  },
  {
   "cell_type": "markdown",
   "metadata": {
    "execution": {
     "iopub.execute_input": "2022-07-26T22:14:16.422027Z",
     "iopub.status.busy": "2022-07-26T22:14:16.421068Z",
     "iopub.status.idle": "2022-07-26T22:14:16.427477Z",
     "shell.execute_reply": "2022-07-26T22:14:16.426491Z",
     "shell.execute_reply.started": "2022-07-26T22:14:16.421993Z"
    }
   },
   "source": [
    "There are a roughly equivilent number of images for each class, although it shoudl still be watched in case it causes issues with accuracy of the smaller classes later."
   ]
  },
  {
   "cell_type": "markdown",
   "metadata": {},
   "source": [
    "Our goal it to convert the images into a single matrix where each row is an image, each column is a single pixel location, and each value represents the brightness of that pixel in grayscale.\n",
    "\n",
    "First, the we crawl through the imported folders and create a list of all the images as 1d arrays, scaled down to half size for computational difficulty reasons:"
   ]
  },
  {
   "cell_type": "code",
   "execution_count": 4,
   "metadata": {
    "execution": {
     "iopub.execute_input": "2022-07-26T17:56:37.159720Z",
     "iopub.status.busy": "2022-07-26T17:56:37.159305Z",
     "iopub.status.idle": "2022-07-26T17:57:40.880406Z",
     "shell.execute_reply": "2022-07-26T17:57:40.879287Z",
     "shell.execute_reply.started": "2022-07-26T17:56:37.159685Z"
    }
   },
   "outputs": [],
   "source": [
    "images = []\n",
    "for label in labels:\n",
    "    filenames = glob.glob('/Users/grahamsmith/Documents/SpringboardWork/UIsketch/UIsketch dataset/' + label + '/*')\n",
    "    for filename in filenames:\n",
    "        img = cv2.imread(filename)\n",
    "        images.append(cv2.resize(img, (0, 0), fx=0.5, fy=0.5).flatten())"
   ]
  },
  {
   "cell_type": "markdown",
   "metadata": {},
   "source": [
    "Double check that the images are all the same dimensions."
   ]
  },
  {
   "cell_type": "code",
   "execution_count": 5,
   "metadata": {
    "execution": {
     "iopub.execute_input": "2022-07-26T22:19:09.265585Z",
     "iopub.status.busy": "2022-07-26T22:19:09.264889Z",
     "iopub.status.idle": "2022-07-26T22:19:09.275784Z",
     "shell.execute_reply": "2022-07-26T22:19:09.274887Z",
     "shell.execute_reply.started": "2022-07-26T22:19:09.265534Z"
    }
   },
   "outputs": [],
   "source": [
    "for image in images:\n",
    "    if len(image) == 37632:\n",
    "        pass\n",
    "    else:\n",
    "        print('image not equal to 37632')"
   ]
  },
  {
   "cell_type": "markdown",
   "metadata": {},
   "source": [
    "Nothing printed, so we can conlcude all the images are the same size (37632 pixels)."
   ]
  },
  {
   "cell_type": "markdown",
   "metadata": {},
   "source": [
    "Now another list is generated with all of the image labels, in the same order as the list of images."
   ]
  },
  {
   "cell_type": "code",
   "execution_count": 6,
   "metadata": {
    "execution": {
     "iopub.execute_input": "2022-07-26T18:21:10.825322Z",
     "iopub.status.busy": "2022-07-26T18:21:10.824810Z",
     "iopub.status.idle": "2022-07-26T18:21:10.925087Z",
     "shell.execute_reply": "2022-07-26T18:21:10.923936Z",
     "shell.execute_reply.started": "2022-07-26T18:21:10.825279Z"
    }
   },
   "outputs": [],
   "source": [
    "label_list = []\n",
    "\n",
    "for label in labels:\n",
    "    filenames = glob.glob('/Users/grahamsmith/Documents/SpringboardWork/UIsketch/UIsketch dataset/' + label + '/*')\n",
    "    for filename in filenames:\n",
    "        label_list.append(str(label))\n",
    "        "
   ]
  },
  {
   "cell_type": "markdown",
   "metadata": {},
   "source": [
    "Now that we have all the data loaded in, the lists need to be combined into our final design matrix. The following code has so much repitition becasue it was written for the Kaggle IDE, which would break if more than 1000 lines were run at once (even with a loop)."
   ]
  },
  {
   "cell_type": "code",
   "execution_count": 7,
   "metadata": {
    "execution": {
     "iopub.execute_input": "2022-07-26T20:51:09.809131Z",
     "iopub.status.busy": "2022-07-26T20:51:09.808730Z",
     "iopub.status.idle": "2022-07-26T20:51:40.042014Z",
     "shell.execute_reply": "2022-07-26T20:51:40.040703Z",
     "shell.execute_reply.started": "2022-07-26T20:51:09.809099Z"
    }
   },
   "outputs": [],
   "source": [
    "imgsub = images[0:1000]\n",
    "images_mat = imgsub[0]\n",
    "\n",
    "for x in range(len(imgsub)):\n",
    "    images_mat = np.row_stack([images_mat, imgsub[x]])"
   ]
  },
  {
   "cell_type": "code",
   "execution_count": 8,
   "metadata": {
    "execution": {
     "iopub.execute_input": "2022-07-26T20:52:35.665807Z",
     "iopub.status.busy": "2022-07-26T20:52:35.665414Z",
     "iopub.status.idle": "2022-07-26T20:53:05.818910Z",
     "shell.execute_reply": "2022-07-26T20:53:05.817652Z",
     "shell.execute_reply.started": "2022-07-26T20:52:35.665777Z"
    }
   },
   "outputs": [],
   "source": [
    "imgsub1 = images[1001:2000]\n",
    "images_mat1 = imgsub1[0]\n",
    "\n",
    "for x in range(len(imgsub1)):\n",
    "    images_mat1 = np.row_stack([images_mat1, imgsub1[x]])"
   ]
  },
  {
   "cell_type": "code",
   "execution_count": 9,
   "metadata": {
    "execution": {
     "iopub.execute_input": "2022-07-26T20:57:13.550115Z",
     "iopub.status.busy": "2022-07-26T20:57:13.549288Z",
     "iopub.status.idle": "2022-07-26T20:57:43.301558Z",
     "shell.execute_reply": "2022-07-26T20:57:43.300391Z",
     "shell.execute_reply.started": "2022-07-26T20:57:13.550062Z"
    }
   },
   "outputs": [],
   "source": [
    "imgsub2 = images[2001:3000]\n",
    "images_mat2 = imgsub2[0]\n",
    "\n",
    "for x in range(len(imgsub2)):\n",
    "    images_mat2 = np.row_stack([images_mat2, imgsub2[x]])"
   ]
  },
  {
   "cell_type": "code",
   "execution_count": 10,
   "metadata": {
    "execution": {
     "iopub.execute_input": "2022-07-26T20:59:25.336078Z",
     "iopub.status.busy": "2022-07-26T20:59:25.335631Z",
     "iopub.status.idle": "2022-07-26T20:59:54.674920Z",
     "shell.execute_reply": "2022-07-26T20:59:54.673882Z",
     "shell.execute_reply.started": "2022-07-26T20:59:25.336041Z"
    }
   },
   "outputs": [],
   "source": [
    "imgsub3 = images[3001:4000]\n",
    "images_mat3 = imgsub3[0]\n",
    "\n",
    "for x in range(len(imgsub3)):\n",
    "    images_mat3 = np.row_stack([images_mat3, imgsub3[x]])"
   ]
  },
  {
   "cell_type": "code",
   "execution_count": 11,
   "metadata": {
    "execution": {
     "iopub.execute_input": "2022-07-26T20:59:57.453084Z",
     "iopub.status.busy": "2022-07-26T20:59:57.452723Z",
     "iopub.status.idle": "2022-07-26T21:00:26.936213Z",
     "shell.execute_reply": "2022-07-26T21:00:26.935136Z",
     "shell.execute_reply.started": "2022-07-26T20:59:57.453055Z"
    }
   },
   "outputs": [],
   "source": [
    "imgsub4 = images[4001:5000]\n",
    "images_mat4 = imgsub4[0]\n",
    "\n",
    "for x in range(len(imgsub4)):\n",
    "    images_mat4 = np.row_stack([images_mat4, imgsub4[x]])"
   ]
  },
  {
   "cell_type": "code",
   "execution_count": 12,
   "metadata": {
    "execution": {
     "iopub.execute_input": "2022-07-26T21:00:32.156462Z",
     "iopub.status.busy": "2022-07-26T21:00:32.156060Z",
     "iopub.status.idle": "2022-07-26T21:01:01.515626Z",
     "shell.execute_reply": "2022-07-26T21:01:01.514714Z",
     "shell.execute_reply.started": "2022-07-26T21:00:32.156414Z"
    }
   },
   "outputs": [],
   "source": [
    "imgsub5 = images[5001:6000]\n",
    "images_mat5 = imgsub5[0]\n",
    "\n",
    "for x in range(len(imgsub5)):\n",
    "    images_mat5 = np.row_stack([images_mat5, imgsub5[x]])"
   ]
  },
  {
   "cell_type": "code",
   "execution_count": 13,
   "metadata": {
    "execution": {
     "iopub.execute_input": "2022-07-26T21:01:45.064580Z",
     "iopub.status.busy": "2022-07-26T21:01:45.063561Z",
     "iopub.status.idle": "2022-07-26T21:03:12.816003Z",
     "shell.execute_reply": "2022-07-26T21:03:12.814704Z",
     "shell.execute_reply.started": "2022-07-26T21:01:45.064542Z"
    }
   },
   "outputs": [],
   "source": [
    "imgsub6 = images[6001:7000]\n",
    "images_mat6 = imgsub6[0]\n",
    "\n",
    "for x in range(len(imgsub5)):\n",
    "    images_mat5 = np.row_stack([images_mat5, imgsub5[x]])"
   ]
  },
  {
   "cell_type": "code",
   "execution_count": 14,
   "metadata": {
    "execution": {
     "iopub.execute_input": "2022-07-26T21:03:42.796620Z",
     "iopub.status.busy": "2022-07-26T21:03:42.796210Z",
     "iopub.status.idle": "2022-07-26T21:04:12.258753Z",
     "shell.execute_reply": "2022-07-26T21:04:12.257670Z",
     "shell.execute_reply.started": "2022-07-26T21:03:42.796585Z"
    }
   },
   "outputs": [],
   "source": [
    "imgsub7 = images[7001:8000]\n",
    "images_mat7 = imgsub7[0]\n",
    "\n",
    "for x in range(len(imgsub7)):\n",
    "    images_mat7 = np.row_stack([images_mat7, imgsub7[x]])"
   ]
  },
  {
   "cell_type": "code",
   "execution_count": 15,
   "metadata": {
    "execution": {
     "iopub.execute_input": "2022-07-26T21:06:59.427222Z",
     "iopub.status.busy": "2022-07-26T21:06:59.426554Z",
     "iopub.status.idle": "2022-07-26T21:07:28.785766Z",
     "shell.execute_reply": "2022-07-26T21:07:28.784700Z",
     "shell.execute_reply.started": "2022-07-26T21:06:59.427188Z"
    }
   },
   "outputs": [],
   "source": [
    "imgsub8 = images[8001:9000]\n",
    "images_mat8 = imgsub8[0]\n",
    "\n",
    "for x in range(len(imgsub8)):\n",
    "    images_mat8 = np.row_stack([images_mat8, imgsub8[x]])"
   ]
  },
  {
   "cell_type": "code",
   "execution_count": 16,
   "metadata": {
    "execution": {
     "iopub.execute_input": "2022-07-26T21:11:55.620066Z",
     "iopub.status.busy": "2022-07-26T21:11:55.619646Z",
     "iopub.status.idle": "2022-07-26T21:12:25.048030Z",
     "shell.execute_reply": "2022-07-26T21:12:25.046969Z",
     "shell.execute_reply.started": "2022-07-26T21:11:55.620034Z"
    }
   },
   "outputs": [],
   "source": [
    "imgsub9 = images[9001:10000]\n",
    "images_mat9 = imgsub9[0]\n",
    "\n",
    "for x in range(len(imgsub9)):\n",
    "    images_mat9 = np.row_stack([images_mat9, imgsub9[x]])"
   ]
  },
  {
   "cell_type": "code",
   "execution_count": 17,
   "metadata": {
    "execution": {
     "iopub.execute_input": "2022-07-26T21:20:41.619628Z",
     "iopub.status.busy": "2022-07-26T21:20:41.618915Z",
     "iopub.status.idle": "2022-07-26T21:21:11.544627Z",
     "shell.execute_reply": "2022-07-26T21:21:11.543390Z",
     "shell.execute_reply.started": "2022-07-26T21:20:41.619564Z"
    }
   },
   "outputs": [],
   "source": [
    "imgsub10 = images[10001:11000]\n",
    "images_mat10 = imgsub10[0]\n",
    "\n",
    "for x in range(len(imgsub10)):\n",
    "    images_mat10 = np.row_stack([images_mat10, imgsub10[x]])"
   ]
  },
  {
   "cell_type": "code",
   "execution_count": 18,
   "metadata": {
    "execution": {
     "iopub.execute_input": "2022-07-26T21:22:42.509102Z",
     "iopub.status.busy": "2022-07-26T21:22:42.508721Z",
     "iopub.status.idle": "2022-07-26T21:23:12.348021Z",
     "shell.execute_reply": "2022-07-26T21:23:12.346806Z",
     "shell.execute_reply.started": "2022-07-26T21:22:42.509068Z"
    }
   },
   "outputs": [],
   "source": [
    "imgsub11 = images[11001:12000]\n",
    "images_mat11 = imgsub11[0]\n",
    "\n",
    "for x in range(len(imgsub11)):\n",
    "    images_mat11 = np.row_stack([images_mat11, imgsub11[x]])"
   ]
  },
  {
   "cell_type": "code",
   "execution_count": 19,
   "metadata": {
    "execution": {
     "iopub.execute_input": "2022-07-26T21:26:29.699523Z",
     "iopub.status.busy": "2022-07-26T21:26:29.699075Z",
     "iopub.status.idle": "2022-07-26T21:26:59.526536Z",
     "shell.execute_reply": "2022-07-26T21:26:59.525328Z",
     "shell.execute_reply.started": "2022-07-26T21:26:29.699484Z"
    }
   },
   "outputs": [],
   "source": [
    "imgsub12 = images[12001:13000]\n",
    "images_mat12 = imgsub12[0]\n",
    "\n",
    "for x in range(len(imgsub12)):\n",
    "    images_mat12 = np.row_stack([images_mat12, imgsub12[x]])"
   ]
  },
  {
   "cell_type": "code",
   "execution_count": 20,
   "metadata": {
    "execution": {
     "iopub.execute_input": "2022-07-26T21:28:02.607727Z",
     "iopub.status.busy": "2022-07-26T21:28:02.606674Z",
     "iopub.status.idle": "2022-07-26T21:28:32.615306Z",
     "shell.execute_reply": "2022-07-26T21:28:32.613496Z",
     "shell.execute_reply.started": "2022-07-26T21:28:02.607686Z"
    }
   },
   "outputs": [],
   "source": [
    "imgsub13 = images[13001:14000]\n",
    "images_mat13 = imgsub13[0]\n",
    "\n",
    "for x in range(len(imgsub13)):\n",
    "    images_mat13 = np.row_stack([images_mat13, imgsub13[x]])"
   ]
  },
  {
   "cell_type": "code",
   "execution_count": 21,
   "metadata": {
    "execution": {
     "iopub.execute_input": "2022-07-26T21:28:38.216197Z",
     "iopub.status.busy": "2022-07-26T21:28:38.215595Z",
     "iopub.status.idle": "2022-07-26T21:29:08.122641Z",
     "shell.execute_reply": "2022-07-26T21:29:08.121571Z",
     "shell.execute_reply.started": "2022-07-26T21:28:38.216164Z"
    }
   },
   "outputs": [],
   "source": [
    "imgsub14 = images[14001:15000]\n",
    "images_mat14 = imgsub14[0]\n",
    "\n",
    "for x in range(len(imgsub14)):\n",
    "    images_mat14 = np.row_stack([images_mat14, imgsub14[x]])"
   ]
  },
  {
   "cell_type": "code",
   "execution_count": 22,
   "metadata": {
    "execution": {
     "iopub.execute_input": "2022-07-26T21:29:26.446979Z",
     "iopub.status.busy": "2022-07-26T21:29:26.446584Z",
     "iopub.status.idle": "2022-07-26T21:29:55.819275Z",
     "shell.execute_reply": "2022-07-26T21:29:55.818334Z",
     "shell.execute_reply.started": "2022-07-26T21:29:26.446943Z"
    }
   },
   "outputs": [],
   "source": [
    "imgsub15 = images[15001:16000]\n",
    "images_mat15 = imgsub15[0]\n",
    "\n",
    "for x in range(len(imgsub15)):\n",
    "    images_mat15 = np.row_stack([images_mat15, imgsub15[x]])"
   ]
  },
  {
   "cell_type": "code",
   "execution_count": 23,
   "metadata": {
    "execution": {
     "iopub.execute_input": "2022-07-26T21:32:12.967850Z",
     "iopub.status.busy": "2022-07-26T21:32:12.967385Z",
     "iopub.status.idle": "2022-07-26T21:32:42.927794Z",
     "shell.execute_reply": "2022-07-26T21:32:42.926610Z",
     "shell.execute_reply.started": "2022-07-26T21:32:12.967812Z"
    }
   },
   "outputs": [],
   "source": [
    "imgsub16 = images[16001:17000]\n",
    "images_mat16 = imgsub16[0]\n",
    "\n",
    "for x in range(len(imgsub16)):\n",
    "    images_mat16 = np.row_stack([images_mat16, imgsub16[x]])"
   ]
  },
  {
   "cell_type": "code",
   "execution_count": 24,
   "metadata": {
    "execution": {
     "iopub.execute_input": "2022-07-26T21:33:19.724385Z",
     "iopub.status.busy": "2022-07-26T21:33:19.723257Z",
     "iopub.status.idle": "2022-07-26T21:33:49.532873Z",
     "shell.execute_reply": "2022-07-26T21:33:49.531694Z",
     "shell.execute_reply.started": "2022-07-26T21:33:19.724335Z"
    }
   },
   "outputs": [],
   "source": [
    "imgsub17 = images[17001:18000]\n",
    "images_mat17 = imgsub17[0]\n",
    "\n",
    "for x in range(len(imgsub17)):\n",
    "    images_mat17 = np.row_stack([images_mat17, imgsub17[x]])"
   ]
  },
  {
   "cell_type": "code",
   "execution_count": 25,
   "metadata": {
    "execution": {
     "iopub.execute_input": "2022-07-26T21:34:13.712353Z",
     "iopub.status.busy": "2022-07-26T21:34:13.711557Z",
     "iopub.status.idle": "2022-07-26T21:35:53.743773Z",
     "shell.execute_reply": "2022-07-26T21:35:53.742602Z",
     "shell.execute_reply.started": "2022-07-26T21:34:13.712303Z"
    }
   },
   "outputs": [],
   "source": [
    "imgsub18 = images[17001:18844]\n",
    "images_mat18 = imgsub18[0]\n",
    "\n",
    "for x in range(len(imgsub18)):\n",
    "    images_mat18 = np.row_stack([images_mat18, imgsub18[x]])"
   ]
  },
  {
   "cell_type": "markdown",
   "metadata": {},
   "source": [
    "Stack the arrays together into the final matrix."
   ]
  },
  {
   "cell_type": "code",
   "execution_count": 26,
   "metadata": {
    "execution": {
     "iopub.execute_input": "2022-07-26T21:36:17.575852Z",
     "iopub.status.busy": "2022-07-26T21:36:17.575418Z",
     "iopub.status.idle": "2022-07-26T21:36:19.346264Z",
     "shell.execute_reply": "2022-07-26T21:36:19.345096Z",
     "shell.execute_reply.started": "2022-07-26T21:36:17.575816Z"
    }
   },
   "outputs": [],
   "source": [
    "# Create final matrix\n",
    "design_matrix = np.row_stack([images_mat, images_mat1, images_mat2, images_mat3, images_mat4, images_mat5,\n",
    "                                 images_mat6, images_mat7, images_mat8, images_mat9, images_mat10, images_mat11,\n",
    "                                 images_mat12, images_mat13, images_mat14, images_mat15, images_mat16,\n",
    "                                 images_mat17, images_mat18])"
   ]
  },
  {
   "cell_type": "markdown",
   "metadata": {},
   "source": [
    "Double check matrix dimensions are accurate"
   ]
  },
  {
   "cell_type": "code",
   "execution_count": 27,
   "metadata": {},
   "outputs": [
    {
     "data": {
      "text/plain": [
       "(19845, 37632)"
      ]
     },
     "execution_count": 27,
     "metadata": {},
     "output_type": "execute_result"
    }
   ],
   "source": [
    "design_matrix.shape"
   ]
  },
  {
   "cell_type": "markdown",
   "metadata": {},
   "source": [
    "Finally, we turn the matrix into a dataframe so it can be easily exported as a parquet file, a column-oriented and space efficient filetype."
   ]
  },
  {
   "cell_type": "code",
   "execution_count": 28,
   "metadata": {},
   "outputs": [],
   "source": [
    "df = pd.DataFrame(design_matrix)\n",
    "label_list = label_list[26:]\n",
    "label_list = label_list[:-27]\n",
    "df['label'] = label_list"
   ]
  },
  {
   "cell_type": "markdown",
   "metadata": {},
   "source": [
    "Let's do some dimensionality reduction by eliminating columns that are entirely whitespace."
   ]
  },
  {
   "cell_type": "code",
   "execution_count": 29,
   "metadata": {},
   "outputs": [],
   "source": [
    "whitespace = []\n",
    "for x in range(len(df.columns)):\n",
    "    if sum(df.iloc[:,x] == 255) >= len(df)*0.99:\n",
    "        whitespace.append(x)"
   ]
  },
  {
   "cell_type": "code",
   "execution_count": 30,
   "metadata": {},
   "outputs": [],
   "source": [
    "df.drop(df.columns[whitespace],axis = 1, inplace = True)"
   ]
  },
  {
   "cell_type": "code",
   "execution_count": 31,
   "metadata": {},
   "outputs": [
    {
     "data": {
      "text/html": [
       "<div>\n",
       "<style scoped>\n",
       "    .dataframe tbody tr th:only-of-type {\n",
       "        vertical-align: middle;\n",
       "    }\n",
       "\n",
       "    .dataframe tbody tr th {\n",
       "        vertical-align: top;\n",
       "    }\n",
       "\n",
       "    .dataframe thead th {\n",
       "        text-align: right;\n",
       "    }\n",
       "</style>\n",
       "<table border=\"1\" class=\"dataframe\">\n",
       "  <thead>\n",
       "    <tr style=\"text-align: right;\">\n",
       "      <th></th>\n",
       "      <th>4071</th>\n",
       "      <th>4072</th>\n",
       "      <th>4073</th>\n",
       "      <th>4074</th>\n",
       "      <th>4075</th>\n",
       "      <th>4076</th>\n",
       "      <th>4077</th>\n",
       "      <th>4078</th>\n",
       "      <th>4079</th>\n",
       "      <th>4080</th>\n",
       "      <th>...</th>\n",
       "      <th>33543</th>\n",
       "      <th>33544</th>\n",
       "      <th>33545</th>\n",
       "      <th>33546</th>\n",
       "      <th>33547</th>\n",
       "      <th>33548</th>\n",
       "      <th>33549</th>\n",
       "      <th>33550</th>\n",
       "      <th>33551</th>\n",
       "      <th>label</th>\n",
       "    </tr>\n",
       "  </thead>\n",
       "  <tbody>\n",
       "    <tr>\n",
       "      <th>0</th>\n",
       "      <td>255</td>\n",
       "      <td>255</td>\n",
       "      <td>255</td>\n",
       "      <td>255</td>\n",
       "      <td>255</td>\n",
       "      <td>255</td>\n",
       "      <td>255</td>\n",
       "      <td>255</td>\n",
       "      <td>255</td>\n",
       "      <td>255</td>\n",
       "      <td>...</td>\n",
       "      <td>255</td>\n",
       "      <td>255</td>\n",
       "      <td>255</td>\n",
       "      <td>255</td>\n",
       "      <td>255</td>\n",
       "      <td>255</td>\n",
       "      <td>255</td>\n",
       "      <td>255</td>\n",
       "      <td>255</td>\n",
       "      <td>dropdown_menu</td>\n",
       "    </tr>\n",
       "    <tr>\n",
       "      <th>1</th>\n",
       "      <td>255</td>\n",
       "      <td>255</td>\n",
       "      <td>255</td>\n",
       "      <td>255</td>\n",
       "      <td>255</td>\n",
       "      <td>255</td>\n",
       "      <td>255</td>\n",
       "      <td>255</td>\n",
       "      <td>255</td>\n",
       "      <td>255</td>\n",
       "      <td>...</td>\n",
       "      <td>255</td>\n",
       "      <td>255</td>\n",
       "      <td>255</td>\n",
       "      <td>255</td>\n",
       "      <td>255</td>\n",
       "      <td>255</td>\n",
       "      <td>255</td>\n",
       "      <td>255</td>\n",
       "      <td>255</td>\n",
       "      <td>dropdown_menu</td>\n",
       "    </tr>\n",
       "    <tr>\n",
       "      <th>2</th>\n",
       "      <td>255</td>\n",
       "      <td>255</td>\n",
       "      <td>255</td>\n",
       "      <td>255</td>\n",
       "      <td>255</td>\n",
       "      <td>255</td>\n",
       "      <td>255</td>\n",
       "      <td>255</td>\n",
       "      <td>255</td>\n",
       "      <td>255</td>\n",
       "      <td>...</td>\n",
       "      <td>255</td>\n",
       "      <td>255</td>\n",
       "      <td>255</td>\n",
       "      <td>255</td>\n",
       "      <td>255</td>\n",
       "      <td>255</td>\n",
       "      <td>255</td>\n",
       "      <td>255</td>\n",
       "      <td>255</td>\n",
       "      <td>dropdown_menu</td>\n",
       "    </tr>\n",
       "    <tr>\n",
       "      <th>3</th>\n",
       "      <td>255</td>\n",
       "      <td>255</td>\n",
       "      <td>255</td>\n",
       "      <td>255</td>\n",
       "      <td>255</td>\n",
       "      <td>255</td>\n",
       "      <td>255</td>\n",
       "      <td>255</td>\n",
       "      <td>255</td>\n",
       "      <td>255</td>\n",
       "      <td>...</td>\n",
       "      <td>255</td>\n",
       "      <td>255</td>\n",
       "      <td>255</td>\n",
       "      <td>255</td>\n",
       "      <td>255</td>\n",
       "      <td>255</td>\n",
       "      <td>255</td>\n",
       "      <td>255</td>\n",
       "      <td>255</td>\n",
       "      <td>dropdown_menu</td>\n",
       "    </tr>\n",
       "    <tr>\n",
       "      <th>4</th>\n",
       "      <td>255</td>\n",
       "      <td>255</td>\n",
       "      <td>255</td>\n",
       "      <td>255</td>\n",
       "      <td>255</td>\n",
       "      <td>255</td>\n",
       "      <td>255</td>\n",
       "      <td>255</td>\n",
       "      <td>255</td>\n",
       "      <td>255</td>\n",
       "      <td>...</td>\n",
       "      <td>255</td>\n",
       "      <td>255</td>\n",
       "      <td>255</td>\n",
       "      <td>255</td>\n",
       "      <td>255</td>\n",
       "      <td>255</td>\n",
       "      <td>255</td>\n",
       "      <td>255</td>\n",
       "      <td>255</td>\n",
       "      <td>dropdown_menu</td>\n",
       "    </tr>\n",
       "  </tbody>\n",
       "</table>\n",
       "<p>5 rows × 23770 columns</p>\n",
       "</div>"
      ],
      "text/plain": [
       "   4071  4072  4073  4074  4075  4076  4077  4078  4079  4080  ...  33543  \\\n",
       "0   255   255   255   255   255   255   255   255   255   255  ...    255   \n",
       "1   255   255   255   255   255   255   255   255   255   255  ...    255   \n",
       "2   255   255   255   255   255   255   255   255   255   255  ...    255   \n",
       "3   255   255   255   255   255   255   255   255   255   255  ...    255   \n",
       "4   255   255   255   255   255   255   255   255   255   255  ...    255   \n",
       "\n",
       "   33544  33545  33546  33547  33548  33549  33550  33551          label  \n",
       "0    255    255    255    255    255    255    255    255  dropdown_menu  \n",
       "1    255    255    255    255    255    255    255    255  dropdown_menu  \n",
       "2    255    255    255    255    255    255    255    255  dropdown_menu  \n",
       "3    255    255    255    255    255    255    255    255  dropdown_menu  \n",
       "4    255    255    255    255    255    255    255    255  dropdown_menu  \n",
       "\n",
       "[5 rows x 23770 columns]"
      ]
     },
     "execution_count": 31,
     "metadata": {},
     "output_type": "execute_result"
    }
   ],
   "source": [
    "# Final check to make sure everything looks good\n",
    "df.head()"
   ]
  },
  {
   "cell_type": "code",
   "execution_count": 32,
   "metadata": {},
   "outputs": [
    {
     "name": "stderr",
     "output_type": "stream",
     "text": [
      "/var/folders/28/m93_jn5n1m93fzqz6_dkbglc0000gn/T/ipykernel_4901/2314288289.py:1: UserWarning: The DataFrame has column names of mixed type. They will be converted to strings and not roundtrip correctly.\n",
      "  table = pa.Table.from_pandas(df)\n"
     ]
    }
   ],
   "source": [
    "table = pa.Table.from_pandas(df)\n",
    "pq.write_table(table, 'UIsketch.parquet')"
   ]
  },
  {
   "cell_type": "code",
   "execution_count": null,
   "metadata": {},
   "outputs": [],
   "source": []
  }
 ],
 "metadata": {
  "kernelspec": {
   "display_name": "Python 3 (ipykernel)",
   "language": "python",
   "name": "python3"
  },
  "language_info": {
   "codemirror_mode": {
    "name": "ipython",
    "version": 3
   },
   "file_extension": ".py",
   "mimetype": "text/x-python",
   "name": "python",
   "nbconvert_exporter": "python",
   "pygments_lexer": "ipython3",
   "version": "3.8.8"
  }
 },
 "nbformat": 4,
 "nbformat_minor": 4
}
